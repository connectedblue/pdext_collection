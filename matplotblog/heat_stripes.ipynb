{
 "cells": [
  {
   "cell_type": "markdown",
   "metadata": {},
   "source": [
    "# Converting mapplotblog routines to pandex\n",
    "\n",
    "This notebook re-implements the warming stripes blog by Maximilian Nöthe:\n",
    "\n",
    "https://matplotlib.org/matplotblog/posts/warming-stripes/\n",
    "\n",
    "into a `pandex` extension that can be loaded directly from GitHub\n",
    "\n",
    "\n",
    "## pandex implementation\n",
    "\n",
    "The following will download the `heat_stripes` extension located in a public GitHub repo:\n"
   ]
  },
  {
   "cell_type": "code",
   "execution_count": null,
   "metadata": {},
   "outputs": [],
   "source": [
    "import pandex as pd\n",
    "pd.ext.import_extension('github:connectedblue/pdext_collection -> mpl.heat_stripes')"
   ]
  },
  {
   "cell_type": "code",
   "execution_count": null,
   "metadata": {},
   "outputs": [],
   "source": [
    "# cut and paste data from\n",
    "# https://www.metoffice.gov.uk/hadobs/hadcrut4/data/current/time_series/HadCRUT.4.6.0.0.annual_ns_avg.txt\n",
    "# and store in a local file (pandas unable to read directly from the url)\n",
    "df = pd.read_fwf(\n",
    "    'HadCRUT.4.6.0.0.annual_ns_avg.txt',\n",
    "    index_col=0,\n",
    "    usecols=(0, 1),\n",
    "    names=['year', 'anomaly'],\n",
    "    header=None,\n",
    ")\n",
    "\n",
    "df.ext.heat_stripes('anomaly', clim=0.7, reference='1971:2000')"
   ]
  },
  {
   "cell_type": "markdown",
   "metadata": {},
   "source": [
    "## Testing alternate parameter values"
   ]
  },
  {
   "cell_type": "code",
   "execution_count": null,
   "metadata": {},
   "outputs": [],
   "source": [
    "df = pd.read_fwf(\n",
    "    'HadCRUT.4.6.0.0.annual_ns_avg.txt',\n",
    "    index_col=2,\n",
    "    usecols=(0, 1, 2),\n",
    "    names=['year', 'anomaly', 'idx'],\n",
    "    header=None,\n",
    ")\n",
    "df.ext.heat_stripes('anomaly', clim=0.7, first=1905, last=2012, index='year')"
   ]
  },
  {
   "cell_type": "code",
   "execution_count": null,
   "metadata": {},
   "outputs": [],
   "source": [
    "\n",
    "df = pd.DataFrame({'values': [2,2,5,3,3,3,4,4.5,4.75,5,5.1, 8,9,10,10,10]})\n",
    "df.ext.heat_stripes('values')"
   ]
  },
  {
   "cell_type": "code",
   "execution_count": null,
   "metadata": {},
   "outputs": [],
   "source": [
    "help(df.ext.heat_stripes)"
   ]
  },
  {
   "cell_type": "markdown",
   "metadata": {},
   "source": [
    "# This is the logic from the blog\n",
    "\n",
    "The code from the blog is reproduced below\n"
   ]
  },
  {
   "cell_type": "code",
   "execution_count": null,
   "metadata": {},
   "outputs": [],
   "source": [
    "import matplotlib.pyplot as plt\n",
    "from matplotlib.patches import Rectangle\n",
    "from matplotlib.collections import PatchCollection\n",
    "from matplotlib.colors import ListedColormap"
   ]
  },
  {
   "cell_type": "code",
   "execution_count": null,
   "metadata": {},
   "outputs": [],
   "source": [
    "FIRST = 1850\n",
    "LAST = 2018  # inclusive\n",
    "\n",
    "# Reference period for the center of the color scale\n",
    "FIRST_REFERENCE = 1971\n",
    "LAST_REFERENCE = 2000\n",
    "LIM = 0.6 # degrees"
   ]
  },
  {
   "cell_type": "code",
   "execution_count": null,
   "metadata": {},
   "outputs": [],
   "source": [
    "anomaly = df.loc[:,'anomaly'].dropna()\n",
    "reference = anomaly.loc[FIRST_REFERENCE:LAST_REFERENCE].mean()"
   ]
  },
  {
   "cell_type": "code",
   "execution_count": null,
   "metadata": {},
   "outputs": [],
   "source": [
    "len(anomaly)//2"
   ]
  },
  {
   "cell_type": "code",
   "execution_count": null,
   "metadata": {},
   "outputs": [],
   "source": [
    "anomaly.index[-1]"
   ]
  },
  {
   "cell_type": "code",
   "execution_count": null,
   "metadata": {},
   "outputs": [],
   "source": [
    "anomaly.std()"
   ]
  },
  {
   "cell_type": "code",
   "execution_count": null,
   "metadata": {},
   "outputs": [],
   "source": [
    "# the colors in this colormap come from http://colorbrewer2.org\n",
    "# the 8 more saturated colors from the 9 blues / 9 reds\n",
    "cmap = ListedColormap([\n",
    "    '#08306b', '#08519c', '#2171b5', '#4292c6',\n",
    "    '#6baed6', '#9ecae1', '#c6dbef', '#deebf7',\n",
    "    '#fee0d2', '#fcbba1', '#fc9272', '#fb6a4a',\n",
    "    '#ef3b2c', '#cb181d', '#a50f15', '#67000d',\n",
    "])"
   ]
  },
  {
   "cell_type": "code",
   "execution_count": null,
   "metadata": {},
   "outputs": [],
   "source": [
    "fig = plt.figure(figsize=(10, 1))\n",
    "\n",
    "ax = fig.add_axes([0, 0, 1, 1])\n",
    "ax.set_axis_off()"
   ]
  },
  {
   "cell_type": "code",
   "execution_count": null,
   "metadata": {},
   "outputs": [],
   "source": [
    "# create a collection with a rectangle for each year\n",
    "col = PatchCollection([\n",
    "    Rectangle((y, 0), 1, 1)\n",
    "    for y in range(FIRST, LAST + 1)\n",
    "])\n",
    "\n",
    "# set data, colormap and color limits\n",
    "col.set_array(anomaly)\n",
    "col.set_cmap(cmap)\n",
    "col.set_clim(reference - LIM, reference + LIM)\n",
    "ax.add_collection(col)"
   ]
  },
  {
   "cell_type": "code",
   "execution_count": null,
   "metadata": {},
   "outputs": [],
   "source": [
    "ax.set_ylim(0, 1)\n",
    "ax.set_xlim(FIRST, LAST + 1)"
   ]
  },
  {
   "cell_type": "code",
   "execution_count": null,
   "metadata": {},
   "outputs": [],
   "source": [
    "fig"
   ]
  },
  {
   "cell_type": "code",
   "execution_count": null,
   "metadata": {},
   "outputs": [],
   "source": []
  }
 ],
 "metadata": {
  "kernelspec": {
   "display_name": "Python 3",
   "language": "python",
   "name": "python3"
  },
  "language_info": {
   "codemirror_mode": {
    "name": "ipython",
    "version": 3
   },
   "file_extension": ".py",
   "mimetype": "text/x-python",
   "name": "python",
   "nbconvert_exporter": "python",
   "pygments_lexer": "ipython3",
   "version": "3.7.3"
  }
 },
 "nbformat": 4,
 "nbformat_minor": 2
}
