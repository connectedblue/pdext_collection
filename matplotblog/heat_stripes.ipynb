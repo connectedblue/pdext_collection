{
 "cells": [
  {
   "cell_type": "markdown",
   "metadata": {},
   "source": [
    "# Converting mapplotblog routines to pandex\n",
    "\n",
    "This notebook re-implements the warming stripes blog by Maximilian Nöthe:\n",
    "\n",
    "https://matplotlib.org/matplotblog/posts/warming-stripes/\n",
    "\n",
    "into a `pandex` extension that can be loaded directly from GitHub\n",
    "\n",
    "\n",
    "## pandex implementation\n",
    "\n",
    "The following will download the `heat_stripes` extension located in a public GitHub repo:\n"
   ]
  },
  {
   "cell_type": "code",
   "execution_count": 1,
   "metadata": {},
   "outputs": [],
   "source": [
    "import pandex as pd\n",
    "pd.ext.import_extension('github:connectedblue/pdext_collection -> heat_stripes')"
   ]
  },
  {
   "cell_type": "code",
   "execution_count": 9,
   "metadata": {},
   "outputs": [],
   "source": [
    "# cut and paste data from\n",
    "# https://www.metoffice.gov.uk/hadobs/hadcrut4/data/current/time_series/HadCRUT.4.6.0.0.annual_ns_avg.txt\n",
    "# and store in a local file (pandas unable to read directly from the url)\n",
    "df = pd.read_fwf(\n",
    "    'HadCRUT.4.6.0.0.annual_ns_avg.txt',\n",
    "    index_col=0,\n",
    "    usecols=(0, 1),\n",
    "    names=['year', 'anomaly'],\n",
    "    header=None,\n",
    ")\n",
    "\n"
   ]
  },
  {
   "cell_type": "code",
   "execution_count": 10,
   "metadata": {},
   "outputs": [
    {
     "data": {
      "image/png": "[encoded data removed]",
      "text/plain": [
       "<Figure size 720x72 with 1 Axes>"
      ]
     },
     "metadata": {
      "needs_background": "light"
     },
     "output_type": "display_data"
    }
   ],
   "source": [
    "fig = df.ext.heat_stripes('anomaly', clim=0.7, reference='1971:2000')"
   ]
  },
  {
   "cell_type": "code",
   "execution_count": 3,
   "metadata": {},
   "outputs": [
    {
     "name": "stdout",
     "output_type": "stream",
     "text": [
      "Help on function heat_stripes in module 6efd873b4a3e25b3649207ab457441b86b882f46.matplotblog.warm_stripes:\n",
      "\n",
      "heat_stripes(df, col, reference=None, clim=None, first=None, last=None, index=None, cmap=None)\n",
      "        Creates a stripped heatmap.\n",
      "        Inspired by Maximilian Nöthe -- https://matplotlib.org/matplotblog/posts/warming-stripes/\n",
      "    \n",
      "        Input:\n",
      "            col -- the name of the column to be heatstriped.  Must be\n",
      "                   numeric and missing values are dropped\n",
      "            reference -- A string of the form 'A:B' that identifies the index\n",
      "                         rows where the colour pallette should be centered.\n",
      "                         If None, the row in the middle of col is used\n",
      "            clim  -- a numeric value +/- the reference value that controls \n",
      "                     the colour limit of the stripes.  Default is 2 standard\n",
      "                     deviations of the values in col\n",
      "            first -- First index row to use in stripes.  If None, then first row\n",
      "            last -- Last index row to use in stripes.  If None, then last row\n",
      "            index -- the name of the reference column.  If None the existing\n",
      "                     index to df is used.\n",
      "            cmap -- a ListedColormap pallette for the striped output colour.\n",
      "                    Default is a red/blue scale  \n",
      "        Output:\n",
      "            fig -- a matplotlib plot of the heat_stripes\n",
      "    \n",
      "        \n",
      "    USAGE: df.ext.heat_stripes(col, reference, clim, first, last, index, cmap)\n",
      "\n"
     ]
    }
   ],
   "source": [
    "# getting help\n",
    "help(pd.DataFrame().ext.heat_stripes)"
   ]
  },
  {
   "cell_type": "markdown",
   "metadata": {},
   "source": [
    "## Testing alternate parameter values"
   ]
  },
  {
   "cell_type": "code",
   "execution_count": 4,
   "metadata": {},
   "outputs": [
    {
     "data": {
      "image/png": "[encoded data removed]",
      "text/plain": [
       "<Figure size 720x72 with 1 Axes>"
      ]
     },
     "execution_count": 4,
     "metadata": {},
     "output_type": "execute_result"
    },
    {
     "data": {
      "image/png": "[encoded data removed]",
      "text/plain": [
       "<Figure size 720x72 with 1 Axes>"
      ]
     },
     "metadata": {
      "needs_background": "light"
     },
     "output_type": "display_data"
    }
   ],
   "source": [
    "df = pd.read_fwf(\n",
    "    'HadCRUT.4.6.0.0.annual_ns_avg.txt',\n",
    "    index_col=2,\n",
    "    usecols=(0, 1, 2),\n",
    "    names=['year', 'anomaly', 'idx'],\n",
    "    header=None,\n",
    ")\n",
    "df.ext.heat_stripes('anomaly', clim=0.7, first=1905, last=2012, index='year')"
   ]
  },
  {
   "cell_type": "code",
   "execution_count": 5,
   "metadata": {},
   "outputs": [
    {
     "data": {
      "image/png": "[encoded data removed]",
      "text/plain": [
       "<Figure size 720x72 with 1 Axes>"
      ]
     },
     "metadata": {
      "needs_background": "light"
     },
     "output_type": "display_data"
    }
   ],
   "source": [
    "\n",
    "df = pd.DataFrame({'values': [2,2,5,3,3,3,4,4.5,4.75,5,5.1, 8,9,10,10,10]})\n",
    "fig = df.ext.heat_stripes('values')"
   ]
  },
  {
   "cell_type": "code",
   "execution_count": 6,
   "metadata": {},
   "outputs": [
    {
     "data": {
      "image/png": "[encoded data removed]",
      "text/plain": [
       "<Figure size 720x72 with 1 Axes>"
      ]
     },
     "metadata": {
      "needs_background": "light"
     },
     "output_type": "display_data"
    }
   ],
   "source": [
    "fig = df.ext.heat_stripes('values', reference = '10:12')"
   ]
  },
  {
   "cell_type": "markdown",
   "metadata": {},
   "source": [
    "# This is the logic from the blog\n",
    "\n",
    "The code from the blog is reproduced below\n"
   ]
  },
  {
   "cell_type": "code",
   "execution_count": 7,
   "metadata": {},
   "outputs": [],
   "source": [
    "import matplotlib.pyplot as plt\n",
    "from matplotlib.patches import Rectangle\n",
    "from matplotlib.collections import PatchCollection\n",
    "from matplotlib.colors import ListedColormap"
   ]
  },
  {
   "cell_type": "code",
   "execution_count": null,
   "metadata": {},
   "outputs": [],
   "source": [
    "FIRST = 1850\n",
    "LAST = 2018  # inclusive\n",
    "\n",
    "# Reference period for the center of the color scale\n",
    "FIRST_REFERENCE = 1971\n",
    "LAST_REFERENCE = 2000\n",
    "LIM = 0.6 # degrees"
   ]
  },
  {
   "cell_type": "code",
   "execution_count": null,
   "metadata": {},
   "outputs": [],
   "source": [
    "anomaly = df.loc[:,'anomaly'].dropna()\n",
    "reference = anomaly.loc[FIRST_REFERENCE:LAST_REFERENCE].mean()"
   ]
  },
  {
   "cell_type": "code",
   "execution_count": null,
   "metadata": {},
   "outputs": [],
   "source": [
    "len(anomaly)//2"
   ]
  },
  {
   "cell_type": "code",
   "execution_count": null,
   "metadata": {},
   "outputs": [],
   "source": [
    "anomaly.index[-1]"
   ]
  },
  {
   "cell_type": "code",
   "execution_count": null,
   "metadata": {},
   "outputs": [],
   "source": [
    "anomaly.std()"
   ]
  },
  {
   "cell_type": "code",
   "execution_count": null,
   "metadata": {},
   "outputs": [],
   "source": [
    "# the colors in this colormap come from http://colorbrewer2.org\n",
    "# the 8 more saturated colors from the 9 blues / 9 reds\n",
    "cmap = ListedColormap([\n",
    "    '#08306b', '#08519c', '#2171b5', '#4292c6',\n",
    "    '#6baed6', '#9ecae1', '#c6dbef', '#deebf7',\n",
    "    '#fee0d2', '#fcbba1', '#fc9272', '#fb6a4a',\n",
    "    '#ef3b2c', '#cb181d', '#a50f15', '#67000d',\n",
    "])"
   ]
  },
  {
   "cell_type": "code",
   "execution_count": null,
   "metadata": {},
   "outputs": [],
   "source": [
    "fig = plt.figure(figsize=(10, 1))\n",
    "\n",
    "ax = fig.add_axes([0, 0, 1, 1])\n",
    "ax.set_axis_off()"
   ]
  },
  {
   "cell_type": "code",
   "execution_count": null,
   "metadata": {},
   "outputs": [],
   "source": [
    "# create a collection with a rectangle for each year\n",
    "col = PatchCollection([\n",
    "    Rectangle((y, 0), 1, 1)\n",
    "    for y in range(FIRST, LAST + 1)\n",
    "])\n",
    "\n",
    "# set data, colormap and color limits\n",
    "col.set_array(anomaly)\n",
    "col.set_cmap(cmap)\n",
    "col.set_clim(reference - LIM, reference + LIM)\n",
    "ax.add_collection(col)"
   ]
  },
  {
   "cell_type": "code",
   "execution_count": null,
   "metadata": {},
   "outputs": [],
   "source": [
    "ax.set_ylim(0, 1)\n",
    "ax.set_xlim(FIRST, LAST + 1)"
   ]
  },
  {
   "cell_type": "code",
   "execution_count": null,
   "metadata": {},
   "outputs": [],
   "source": [
    "fig"
   ]
  },
  {
   "cell_type": "code",
   "execution_count": 11,
   "metadata": {},
   "outputs": [
    {
     "data": {
      "image/png": "[encoded data removed]",
      "text/plain": [
       "<Figure size 720x72 with 1 Axes>"
      ]
     },
     "metadata": {
      "needs_background": "light"
     },
     "output_type": "display_data"
    }
   ],
   "source": [
    "df = pd.DataFrame({'values': [2,2,5,3,3,3,4,4.5,4.75,5,5.1, 8,9,10,10,10]})\n",
    "fig = df.ext.heat_stripes('values')"
   ]
  },
  {
   "cell_type": "code",
   "execution_count": null,
   "metadata": {},
   "outputs": [],
   "source": []
  }
 ],
 "metadata": {
  "kernelspec": {
   "display_name": "Python 3",
   "language": "python",
   "name": "python3"
  },
  "language_info": {
   "codemirror_mode": {
    "name": "ipython",
    "version": 3
   },
   "file_extension": ".py",
   "mimetype": "text/x-python",
   "name": "python",
   "nbconvert_exporter": "python",
   "pygments_lexer": "ipython3",
   "version": "3.7.3"
  }
 },
 "nbformat": 4,
 "nbformat_minor": 2
}
